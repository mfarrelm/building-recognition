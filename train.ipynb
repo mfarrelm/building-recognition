{
 "cells": [
  {
   "cell_type": "code",
   "execution_count": 2,
   "metadata": {
    "ExecuteTime": {
     "end_time": "2020-02-09T10:13:32.989888Z",
     "start_time": "2020-02-09T10:13:26.921499Z"
    }
   },
   "outputs": [],
   "source": [
    "import cv2\n",
    "from PIL import Image, ImageOps\n",
    "import keras\n",
    "import numpy as np\n",
    "#import imgaug as ia\n",
    "#import imgaug.augmenters as iaa\n",
    "import requests\n",
    "from io import BytesIO\n",
    "from keras.models import load_model, Model\n",
    "from keras.layers import Flatten, Dense, GlobalAveragePooling2D\n",
    "import keras.models\n",
    "import keras.optimizers\n",
    "import tensorflow as tf\n",
    "from keras.models import load_model\n",
    "from PIL import Image\n",
    "import glob\n",
    "from keras.layers import Flatten, Dense\n",
    "import tensorflow.keras.metrics\n",
    "import tensorflow.keras.backend as K\n",
    "from sklearn.metrics import classification_report\n",
    "import datetime\n",
    "import pandas as pd\n",
    "import matplotlib.pyplot as plt\n"
   ]
  },
  {
   "cell_type": "code",
   "execution_count": 4,
   "metadata": {
    "ExecuteTime": {
     "end_time": "2020-02-09T10:13:48.893543Z",
     "start_time": "2020-02-09T10:13:48.864712Z"
    }
   },
   "outputs": [],
   "source": [
    "def plot_history(history):\n",
    "    hist = pd.DataFrame(history.history)\n",
    "    hist['epoch'] = history.epoch\n",
    "    plt.figure()\n",
    "    plt.xlabel('Epoch')\n",
    "    plt.ylabel('Mean Abs Error [MPG]')\n",
    "    plt.plot(hist['epoch'], hist['mean_absolute_error'],\n",
    "           label='mean_absolute_error')\n",
    "    plt.plot(hist['epoch'], hist['mean_squared_error'],\n",
    "           label = 'mean_squared_error')\n",
    "    plt.ylim([0,0.4])\n",
    "    plt.legend()\n",
    "    plt.show()\n",
    "    \n",
    "def recall_m(y_true, y_pred):\n",
    "        true_positives = K.sum(K.round(K.clip(y_true * y_pred, 0, 1)))\n",
    "        possible_positives = K.sum(K.round(K.clip(y_true, 0, 1)))\n",
    "        recall = true_positives / (possible_positives + K.epsilon())\n",
    "        return recall\n",
    "\n",
    "def precision_m(y_true, y_pred):\n",
    "        true_positives = K.sum(K.round(K.clip(y_true * y_pred, 0, 1)))\n",
    "        predicted_positives = K.sum(K.round(K.clip(y_pred, 0, 1)))\n",
    "        precision = true_positives / (predicted_positives + K.epsilon())\n",
    "        return precision\n",
    "\n",
    "def f1_m(y_true, y_pred):\n",
    "    precision = precision_m(y_true, y_pred)\n",
    "    recall = recall_m(y_true, y_pred)\n",
    "    return 2*((precision*recall)/(precision+recall+K.epsilon()))\n",
    "\n",
    "\n",
    "def create_model():\n",
    "    model = keras.applications.densenet.DenseNet121(include_top=False, weights='imagenet', pooling='avg')\n",
    "    X = model.output\n",
    "    output = Dense(11, activation = 'softmax')(X)\n",
    "    model = Model(inputs = model.inputs, outputs = output)   \n",
    "    opt = keras.optimizers.Adam(lr=0.001, decay = 1e-6, beta_1=0.9, beta_2=0.999, amsgrad=False)\n",
    "    model.compile(optimizer='adam', loss='categorical_crossentropy', metrics=['accuracy', f1_m])\n",
    "    return model\n",
    "\n",
    "\n"
   ]
  },
  {
   "cell_type": "code",
   "execution_count": 3,
   "metadata": {
    "ExecuteTime": {
     "end_time": "2020-01-07T16:16:31.058974Z",
     "start_time": "2020-01-07T16:16:28.976595Z"
    }
   },
   "outputs": [],
   "source": [
    "X_train = np.load('image_train.npy')/255.0\n",
    "y_train = np.load('target_train.npy')\n",
    "#X_test = np.load('image_test.npy')/255.0\n",
    "#y_test = np.load('target_test.npy')\n"
   ]
  },
  {
   "cell_type": "code",
   "execution_count": 4,
   "metadata": {
    "ExecuteTime": {
     "end_time": "2020-01-07T16:16:32.865089Z",
     "start_time": "2020-01-07T16:16:32.809244Z"
    }
   },
   "outputs": [],
   "source": [
    "y_train = keras.utils.to_categorical(y_train - 1, dtype='float32')\n",
    "#y_test = keras.utils.to_categorical(y_test -1 , dtype='float32')"
   ]
  },
  {
   "cell_type": "code",
   "execution_count": 8,
   "metadata": {
    "ExecuteTime": {
     "end_time": "2020-01-07T16:20:57.042874Z",
     "start_time": "2020-01-07T16:20:25.513249Z"
    }
   },
   "outputs": [
    {
     "name": "stdout",
     "output_type": "stream",
     "text": [
      "Downloading data from https://github.com/keras-team/keras-applications/releases/download/densenet/densenet121_weights_tf_dim_ordering_tf_kernels_notop.h5\n",
      "29089792/29084464 [==============================] - 22s 1us/step\n"
     ]
    }
   ],
   "source": [
    "model = create_model()"
   ]
  },
  {
   "cell_type": "code",
   "execution_count": null,
   "metadata": {
    "ExecuteTime": {
     "start_time": "2020-01-07T16:21:25.616Z"
    }
   },
   "outputs": [],
   "source": [
    "tensorboard_callback = keras.callbacks.TensorBoard(log_dir='log')\n",
    "es = keras.callbacks.EarlyStopping(monitor=f1_m, patience=15, verbose=0, mode='min',  restore_best_weights=True)\n",
    "history = model.fit(X_train, y_train, epochs = 200, batch_size = 32, verbose = 1,shuffle = True, callbacks = [tensorboard_callback, es])"
   ]
  },
  {
   "cell_type": "code",
   "execution_count": 5,
   "metadata": {
    "ExecuteTime": {
     "end_time": "2020-02-09T10:14:26.605024Z",
     "start_time": "2020-02-09T10:13:50.817967Z"
    }
   },
   "outputs": [],
   "source": [
    "model_name = 'mobile_net_7783.h5'\n",
    "model = load_model(model_name, custom_objects= {'f1_m' : f1_m, 'precision' : precision_m, 'recall_m' : recall_m})"
   ]
  },
  {
   "cell_type": "code",
   "execution_count": 6,
   "metadata": {
    "ExecuteTime": {
     "end_time": "2020-02-09T10:14:45.728869Z",
     "start_time": "2020-02-09T10:14:45.535393Z"
    }
   },
   "outputs": [],
   "source": [
    "model.compile(optimizer='adam', loss='categorical_crossentropy')"
   ]
  },
  {
   "cell_type": "code",
   "execution_count": 7,
   "metadata": {
    "ExecuteTime": {
     "end_time": "2020-02-09T10:14:55.851813Z",
     "start_time": "2020-02-09T10:14:55.277794Z"
    }
   },
   "outputs": [],
   "source": [
    "model.save('mobile_net_7783.h5')"
   ]
  },
  {
   "cell_type": "code",
   "execution_count": null,
   "metadata": {},
   "outputs": [],
   "source": []
  }
 ],
 "metadata": {
  "kernelspec": {
   "display_name": "Python 3",
   "language": "python",
   "name": "python3"
  },
  "language_info": {
   "codemirror_mode": {
    "name": "ipython",
    "version": 3
   },
   "file_extension": ".py",
   "mimetype": "text/x-python",
   "name": "python",
   "nbconvert_exporter": "python",
   "pygments_lexer": "ipython3",
   "version": "3.7.4"
  },
  "toc": {
   "base_numbering": 1,
   "nav_menu": {},
   "number_sections": true,
   "sideBar": true,
   "skip_h1_title": false,
   "title_cell": "Table of Contents",
   "title_sidebar": "Contents",
   "toc_cell": false,
   "toc_position": {},
   "toc_section_display": true,
   "toc_window_display": false
  },
  "varInspector": {
   "cols": {
    "lenName": 16,
    "lenType": 16,
    "lenVar": 40
   },
   "kernels_config": {
    "python": {
     "delete_cmd_postfix": "",
     "delete_cmd_prefix": "del ",
     "library": "var_list.py",
     "varRefreshCmd": "print(var_dic_list())"
    },
    "r": {
     "delete_cmd_postfix": ") ",
     "delete_cmd_prefix": "rm(",
     "library": "var_list.r",
     "varRefreshCmd": "cat(var_dic_list()) "
    }
   },
   "types_to_exclude": [
    "module",
    "function",
    "builtin_function_or_method",
    "instance",
    "_Feature"
   ],
   "window_display": false
  }
 },
 "nbformat": 4,
 "nbformat_minor": 2
}
