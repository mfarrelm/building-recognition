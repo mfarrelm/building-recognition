{
 "cells": [
  {
   "cell_type": "code",
   "execution_count": 1,
   "metadata": {
    "ExecuteTime": {
     "end_time": "2020-01-07T16:37:08.479649Z",
     "start_time": "2020-01-07T16:36:28.424530Z"
    }
   },
   "outputs": [
    {
     "name": "stderr",
     "output_type": "stream",
     "text": [
      "Using TensorFlow backend.\n"
     ]
    }
   ],
   "source": [
    "import numpy as np\n",
    "import cv2\n",
    "from PIL import Image, ImageOps\n",
    "import imgaug as ia\n",
    "import imgaug.augmenters as iaa\n",
    "import requests\n",
    "from io import BytesIO\n",
    "from keras.models import load_model, Model\n",
    "import keras.models\n",
    "import keras.optimizers\n",
    "from keras.layers import Flatten, Dense, GlobalAveragePooling2D, Reshape\n",
    "from keras.models import load_model\n",
    "import tensorflow as tf\n",
    "import glob\n",
    "import warnings \n",
    "warnings.simplefilter('ignore')\n",
    "import datetime"
   ]
  },
  {
   "cell_type": "markdown",
   "metadata": {},
   "source": [
    "# Train Dataset"
   ]
  },
  {
   "cell_type": "code",
   "execution_count": 2,
   "metadata": {
    "ExecuteTime": {
     "end_time": "2020-01-07T16:53:00.524883Z",
     "start_time": "2020-01-07T16:37:25.477470Z"
    }
   },
   "outputs": [
    {
     "name": "stdout",
     "output_type": "stream",
     "text": [
      "Aula_Barat 0\n",
      "Aula_Timur 1\n",
      "CC_Barat 2\n",
      "CC_Timur 3\n",
      "Labtek_V 4\n",
      "Labtek_VI 5\n",
      "Labtek_VII 6\n",
      "Labtek_VIII 7\n",
      "Oktagon 8\n",
      "PAU 9\n",
      "Perpustakaan 10\n",
      "TVST 11\n"
     ]
    }
   ],
   "source": [
    "idx_class = 0\n",
    "for folder in glob.glob('latih/*'):\n",
    "    image_list = []\n",
    "    target_list = []\n",
    "    for filename in glob.glob(folder + '/*.jpg'):\n",
    "        im=cv2.imread(filename)\n",
    "        im = cv2.cvtColor(im, cv2.COLOR_BGR2RGB)\n",
    "        im = Image.fromarray(im)\n",
    "        desired_size = 224\n",
    "        old_size = im.size\n",
    "        ratio = float(desired_size)/max(old_size)\n",
    "        new_size = tuple([int(x*ratio) for x in old_size])\n",
    "        im = im.resize(new_size, Image.ANTIALIAS)\n",
    "        new_im = Image.new(\"RGB\", (desired_size, desired_size))\n",
    "        new_im.paste(im, ((desired_size-new_size[0])//2,\n",
    "                            (desired_size-new_size[1])//2))\n",
    "        image_list.append(np.array(new_im))\n",
    "        target_list.append(idx_class)\n",
    "\n",
    "    image_list = np.array(image_list)\n",
    "    target_list = np.array(target_list)\n",
    "    np.save('dataset_latih/' + folder[6:] + '_image.npy', image_list)\n",
    "    np.save('dataset_latih/' + folder[6:] + '_target.npy', target_list)\n",
    "    print(folder[6:], idx_class)\n",
    "    idx_class += 1"
   ]
  },
  {
   "cell_type": "code",
   "execution_count": 3,
   "metadata": {
    "ExecuteTime": {
     "end_time": "2020-01-07T16:53:11.273672Z",
     "start_time": "2020-01-07T16:53:00.607091Z"
    }
   },
   "outputs": [],
   "source": [
    "image_list = np.zeros([0,224,224,3], dtype = np.uint8)\n",
    "for file in glob.glob('dataset_latih/*_image.npy'):\n",
    "    image_list = np.append(image_list, np.load(file), axis = 0)\n",
    "    \n",
    "target_list = []\n",
    "for file in glob.glob('dataset_latih/*_target.npy'):\n",
    "    target_list = np.append(target_list, np.load(file), axis = 0)\n",
    "    \n",
    "np.save('image_train.npy', image_list)\n",
    "np.save('target_train.npy', target_list)"
   ]
  },
  {
   "cell_type": "code",
   "execution_count": 4,
   "metadata": {
    "ExecuteTime": {
     "end_time": "2020-01-07T16:53:11.303059Z",
     "start_time": "2020-01-07T16:53:11.294082Z"
    }
   },
   "outputs": [
    {
     "data": {
      "text/plain": [
       "(2815, 224, 224, 3)"
      ]
     },
     "execution_count": 4,
     "metadata": {},
     "output_type": "execute_result"
    }
   ],
   "source": [
    "image_list.shape"
   ]
  },
  {
   "cell_type": "markdown",
   "metadata": {},
   "source": [
    "# Test Dataset"
   ]
  },
  {
   "cell_type": "code",
   "execution_count": 5,
   "metadata": {
    "ExecuteTime": {
     "end_time": "2020-01-07T16:57:10.079769Z",
     "start_time": "2020-01-07T16:53:11.314045Z"
    }
   },
   "outputs": [
    {
     "name": "stdout",
     "output_type": "stream",
     "text": [
      "Aula_Barat 0\n",
      "Aula_Timur 1\n",
      "CC_Barat 2\n",
      "CC_Timur 3\n",
      "Labtek_V 4\n",
      "Labtek_VI 5\n",
      "Labtek_VII 6\n",
      "Labtek_VIII 7\n",
      "Oktagon 8\n",
      "PAU 9\n",
      "Perpustakaan 10\n",
      "TVST 11\n"
     ]
    }
   ],
   "source": [
    "idx_class = 0\n",
    "for folder in glob.glob('uji/*'):\n",
    "    image_list = []\n",
    "    target_list = []\n",
    "    for filename in glob.glob(folder + '/*.jpg'):\n",
    "        im=cv2.imread(filename)\n",
    "        im = cv2.cvtColor(im, cv2.COLOR_BGR2RGB)\n",
    "        im = Image.fromarray(im)\n",
    "        desired_size = 224\n",
    "        old_size = im.size\n",
    "        ratio = float(desired_size)/max(old_size)\n",
    "        new_size = tuple([int(x*ratio) for x in old_size])\n",
    "        im = im.resize(new_size, Image.ANTIALIAS)\n",
    "        new_im = Image.new(\"RGB\", (desired_size, desired_size))\n",
    "        new_im.paste(im, ((desired_size-new_size[0])//2,\n",
    "                            (desired_size-new_size[1])//2))\n",
    "        image_list.append(np.array(new_im))\n",
    "        target_list.append(idx_class)\n",
    "\n",
    "    image_list = np.array(image_list)\n",
    "    target_list = np.array(target_list)\n",
    "    np.save('dataset_uji/' + folder[4:] + '_image.npy', image_list)\n",
    "    np.save('dataset_uji/' + folder[4:] + '_target.npy', target_list)\n",
    "    print(folder[4:], idx_class)\n",
    "    idx_class += 1"
   ]
  },
  {
   "cell_type": "code",
   "execution_count": 6,
   "metadata": {
    "ExecuteTime": {
     "end_time": "2020-01-07T16:57:12.072596Z",
     "start_time": "2020-01-07T16:57:10.092734Z"
    }
   },
   "outputs": [],
   "source": [
    "image_list = np.zeros([0,224,224,3], dtype = np.uint8)\n",
    "for file in glob.glob('dataset_uji/*_image.npy'):\n",
    "    image_list = np.append(image_list, np.load(file), axis = 0)\n",
    "    \n",
    "target_list = []\n",
    "for file in glob.glob('dataset_uji/*_target.npy'):\n",
    "    target_list = np.append(target_list, np.load(file), axis = 0)\n",
    "    \n",
    "np.save('image_test.npy', image_list)\n",
    "np.save('target_test.npy', target_list)"
   ]
  },
  {
   "cell_type": "code",
   "execution_count": null,
   "metadata": {},
   "outputs": [],
   "source": []
  }
 ],
 "metadata": {
  "kernelspec": {
   "display_name": "Python 3",
   "language": "python",
   "name": "python3"
  },
  "language_info": {
   "codemirror_mode": {
    "name": "ipython",
    "version": 3
   },
   "file_extension": ".py",
   "mimetype": "text/x-python",
   "name": "python",
   "nbconvert_exporter": "python",
   "pygments_lexer": "ipython3",
   "version": "3.7.3"
  },
  "toc": {
   "base_numbering": 1,
   "nav_menu": {},
   "number_sections": true,
   "sideBar": true,
   "skip_h1_title": false,
   "title_cell": "Table of Contents",
   "title_sidebar": "Contents",
   "toc_cell": false,
   "toc_position": {},
   "toc_section_display": true,
   "toc_window_display": false
  },
  "varInspector": {
   "cols": {
    "lenName": 16,
    "lenType": 16,
    "lenVar": 40
   },
   "kernels_config": {
    "python": {
     "delete_cmd_postfix": "",
     "delete_cmd_prefix": "del ",
     "library": "var_list.py",
     "varRefreshCmd": "print(var_dic_list())"
    },
    "r": {
     "delete_cmd_postfix": ") ",
     "delete_cmd_prefix": "rm(",
     "library": "var_list.r",
     "varRefreshCmd": "cat(var_dic_list()) "
    }
   },
   "position": {
    "height": "632.5px",
    "left": "739.997px",
    "right": "20px",
    "top": "40.9792px",
    "width": "759.948px"
   },
   "types_to_exclude": [
    "module",
    "function",
    "builtin_function_or_method",
    "instance",
    "_Feature"
   ],
   "window_display": false
  }
 },
 "nbformat": 4,
 "nbformat_minor": 2
}
